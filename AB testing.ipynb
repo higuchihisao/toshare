from scipy import stats

#------- FUNCTIONS ----------

# Power function
def get_power(n, p1, p2, cl):
    alpha = 1 - cl
    qu = stats.norm.ppf(1 - alpha/2)
    diff = abs(p2-p1)
    bp = (p1+p2) / 2

    v1 = p1 * (1-p1)
    v2 = p2 * (1-p2)
    bv = bp * (1-bp)

    power_part_one = stats.norm.cdf((n**0.5 * diff - qu * (2 * bv)**0.5) / (v1+v2) ** 0.5)
    power_part_two = 1 - stats.norm.cdf((n**0.5 * diff + qu * (2 * bv)**0.5) / (v1+v2) ** 0.5)

    power = power_part_one + power_part_two

    return (power)

# Get Sample Size function
def get_sample_size(power, p1, p2, cl, max_n=1000000):
    n = 1
    while n <= max_n:
        tmp_power = get_power(n, p1, p2, cl)

        if tmp_power >= power:
            return n
        else:
            n = n + 100

    return "Increase Max N Value"

# P-value function
def get_pvalue(con_conv, test_conv, con_size, test_size):
    lift = -abs(test_conv - con_conv)

    scale_one = con_conv * (1-con_conv) * (1/ con_size)
    scale_two = test_conv * (1-test_conv) * (1/ test_size)
    scale_val = (scale_one + scale_two) ** 0.5

    p_value = 2 * stats.norm.cdf(lift, loc=0, scale = scale_val)
    return p_value

# Confidence Interval function
def get_ci(lift, alpha, sd):
    val = abs(stats.norm.ppf((1-alpha)/2))

    lwr_bnd = lift - val * sd
    upr_bnd = lift + val * sd

    return (lwr_bnd, upr_bnd)
