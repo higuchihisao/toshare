{
  "nbformat": 4,
  "nbformat_minor": 0,
  "metadata": {
    "colab": {
      "provenance": [],
      "toc_visible": true
    },
    "kernelspec": {
      "name": "python3",
      "display_name": "Python 3"
    },
    "language_info": {
      "name": "python"
    }
  },
  "cells": [
    {
      "cell_type": "code",
      "execution_count": 1,
      "metadata": {
        "id": "UFsglaSwJdSR"
      },
      "outputs": [],
      "source": [
        "from scipy import stats\n",
        "\n",
        "#------- FUNCTIONS ----------\n",
        "\n",
        "# Power function\n",
        "def get_power(n, p1, p2, cl):\n",
        "    alpha = 1 - cl\n",
        "    qu = stats.norm.ppf(1 - alpha/2)\n",
        "    diff = abs(p2-p1)\n",
        "    bp = (p1+p2) / 2\n",
        "\n",
        "    v1 = p1 * (1-p1)\n",
        "    v2 = p2 * (1-p2)\n",
        "    bv = bp * (1-bp)\n",
        "\n",
        "    power_part_one = stats.norm.cdf((n**0.5 * diff - qu * (2 * bv)**0.5) / (v1+v2) ** 0.5)\n",
        "    power_part_two = 1 - stats.norm.cdf((n**0.5 * diff + qu * (2 * bv)**0.5) / (v1+v2) ** 0.5)\n",
        "\n",
        "    power = power_part_one + power_part_two\n",
        "\n",
        "    return (power)\n",
        "\n",
        "# Get Sample Size function\n",
        "def get_sample_size(power, p1, p2, cl, max_n=1000000):\n",
        "    n = 1\n",
        "    while n <= max_n:\n",
        "        tmp_power = get_power(n, p1, p2, cl)\n",
        "\n",
        "        if tmp_power >= power:\n",
        "            return n\n",
        "        else:\n",
        "            n = n + 100\n",
        "\n",
        "    return \"Increase Max N Value\"\n",
        "\n",
        "# P-value function\n",
        "def get_pvalue(con_conv, test_conv, con_size, test_size):\n",
        "    lift = -abs(test_conv - con_conv)\n",
        "\n",
        "    scale_one = con_conv * (1-con_conv) * (1/ con_size)\n",
        "    scale_two = test_conv * (1-test_conv) * (1/ test_size)\n",
        "    scale_val = (scale_one + scale_two) ** 0.5\n",
        "\n",
        "    p_value = 2 * stats.norm.cdf(lift, loc=0, scale = scale_val)\n",
        "    return p_value\n",
        "\n",
        "# Confidence Interval function\n",
        "def get_ci(lift, alpha, sd):\n",
        "    val = abs(stats.norm.ppf((1-alpha)/2))\n",
        "\n",
        "    lwr_bnd = lift - val * sd\n",
        "    upr_bnd = lift + val * sd\n",
        "\n",
        "    return (lwr_bnd, upr_bnd)\n"
      ]
    },
    {
      "cell_type": "code",
      "source": [
        "#------ EXAMPLE ------#\n",
        "\n",
        "#----- INPUT USER -------\n",
        "testing_metric = \"% clientes con ordenes\"\n",
        "baseline = 0.025\n",
        "lift = 0.20\n",
        "\n",
        "#----- SAMPLE SIZE CALCULATION -----\n",
        "p2 = baseline * (1+lift)\n",
        "power = 0.8\n",
        "CL = 0.9\n",
        "\n",
        "test_sample = get_sample_size(power, baseline, p2, CL)\n",
        "\n",
        "print(baseline)\n",
        "print(p2)\n",
        "print(test_sample)"
      ],
      "metadata": {
        "colab": {
          "base_uri": "https://localhost:8080/"
        },
        "id": "e9Nj57SBQU2q",
        "outputId": "a6e39e35-6b16-49fe-c848-777581e7c56e"
      },
      "execution_count": 6,
      "outputs": [
        {
          "output_type": "stream",
          "name": "stdout",
          "text": [
            "0.025\n",
            "0.03\n",
            "13301\n"
          ]
        }
      ]
    },
    {
      "cell_type": "code",
      "source": [
        "#------- TEST CONVERTION RATE -------#\n",
        "\n",
        "#----- INPUT USER ------\n",
        "\n",
        "# Treatment\n",
        "\n",
        "sample_size_treatment = 15000\n",
        "metric_baseline_treatment = 0.0246\n",
        "metric_post_treatment = 0.0301\n",
        "\n",
        "# Control\n",
        "\n",
        "sample_size_control = 15000\n",
        "metric_baseline_control = 0.0243\n",
        "metric_post_control = 0.026\n",
        "\n",
        "#---- P-VALUE, TEST POWER & CL CALCULATIONS -----\n",
        "\n",
        "con_conv =  (metric_post_control / metric_baseline_control) - 1\n",
        "test_conv = (metric_post_treatment / metric_baseline_treatment) - 1\n",
        "con_size = sample_size_control\n",
        "test_size = sample_size_treatment\n",
        "\n",
        "lift_mean = test_conv - con_conv\n",
        "lift_variance = (1 - test_conv) * test_conv /test_size + (1 - con_conv) * con_conv / con_size\n",
        "lift_sd = lift_variance**0.5\n",
        "\n",
        "p_value = get_pvalue(con_conv, test_conv, con_size, test_size)\n",
        "CL_test = get_ci(lift_mean, 0.95, lift_sd)\n",
        "\n",
        "test_power = get_power(sample_size_treatment, metric_baseline_treatment, metric_post_treatment, 0.9)\n",
        "\n",
        "print(test_power)\n",
        "print(p_value)\n",
        "print(CL_test)"
      ],
      "metadata": {
        "colab": {
          "base_uri": "https://localhost:8080/"
        },
        "id": "UYkZUdCdRMyT",
        "outputId": "274d3d5e-b8c7-4bde-c0a1-36d77358fa51"
      },
      "execution_count": 8,
      "outputs": [
        {
          "output_type": "stream",
          "name": "stdout",
          "text": [
            "0.8989694837281451\n",
            "0.0\n",
            "(0.1458005298635427, 0.16143624620792135)\n"
          ]
        }
      ]
    }
  ]
}